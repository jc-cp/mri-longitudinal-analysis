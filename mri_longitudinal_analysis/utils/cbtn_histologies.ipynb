{
 "cells": [
  {
   "cell_type": "code",
   "execution_count": 2,
   "metadata": {},
   "outputs": [],
   "source": [
    "import os\n",
    "import pandas as pd\n",
    "from pathlib import Path"
   ]
  },
  {
   "cell_type": "markdown",
   "metadata": {},
   "source": [
    "### Main Functions"
   ]
  },
  {
   "cell_type": "code",
   "execution_count": 12,
   "metadata": {},
   "outputs": [],
   "source": [
    "def get_identifier(file_name):\n",
    "    \"\"\"Extracts patient ID and scan ID from the file name.\"\"\"\n",
    "    # file format are:\n",
    "    # imageXYZ_patientID_scanID_mask.nii.gz\n",
    "    # imageXYZ_patientID_scanID.nii.gz\n",
    "    parts = file_name.split(\"_\")\n",
    "    return parts[1], parts[2]\n",
    "\n",
    "def get_patient_data(clinical_path, histologies_path, file_path) -> pd.DataFrame:\n",
    "    \"\"\"\n",
    "    Get the patient IDs from the clinical data and \n",
    "    the histologies data that are present in the segmentation directory.\n",
    "    \"\"\"\n",
    "    #dfs\n",
    "    df_clinical = pd.read_csv(clinical_path)\n",
    "    df_histologies = pd.read_csv(histologies_path)\n",
    "    \n",
    "    ids_dir = set()\n",
    "    for file_name in os.listdir(file_path):\n",
    "        if file_name.endswith(\"_mask.nii.gz\"):\n",
    "            patient_id, _ = get_identifier(file_name)\n",
    "            ids_dir.add(patient_id)\n",
    "    \n",
    "    # assertation that is known from before\n",
    "    assert len(ids_dir) == 45\n",
    "    \n",
    "    # make sure the IDs are strings\n",
    "    df_clinical[\"CBTN Subject ID\"] = df_clinical[\"CBTN Subject ID\"].astype(str)\n",
    "    df_histologies[\"cohort_participant_id\"] = df_histologies[\"cohort_participant_id\"].astype(str)\n",
    "    \n",
    "    df_cl = df_clinical[df_clinical[\"CBTN Subject ID\"].isin(ids_dir)]\n",
    "    assert len(df_cl) == len(ids_dir)\n",
    "\n",
    "    df_his = df_histologies[df_histologies[\"cohort_participant_id\"].isin(ids_dir)].drop_duplicates(\"cohort_participant_id\", keep='first')\n",
    "\n",
    "    mismatch_ids_cl = len(df_clinical) - len(df_cl)\n",
    "    mismatch_ids_his = len(df_histologies) - len(df_his)    \n",
    "    print(f\"Number of unique patient IDs in the original clinical CSV: {len(df_clinical)}\")\n",
    "    print(f\"Number of unique patient IDs in the directory: {len(ids_dir)}\")\n",
    "    print(f\"Number of unique patient IDs in the filtered clinical CSV: {len(df_cl)}\")\n",
    "    print(f\"Number of reduced patient IDs: {mismatch_ids_cl}\")\n",
    "    print(f\"Number of unique patient IDs in the original histologies CSV: {len(df_histologies)}\")\n",
    "    print(f\"Number of unique patient IDs in the final histologies CSV: {len(df_his)}\")\n",
    "    print(f\"Number of reduced patient IDs: {mismatch_ids_his}\")    \n",
    "    \n",
    "    return df_cl, df_his, ids_dir\n",
    "\n",
    "def export_ids_and_diagnosis_to_csv(df, filepath):\n",
    "    \"\"\"\n",
    "    Exports patient IDs and pathology free text diagnoses to a new CSV file.\n",
    "    \n",
    "    Parameters:\n",
    "    - df: pandas DataFrame containing patient IDs and 'pathology_free_text_diagnosis'.\n",
    "    - filepath: String representing the path to the output CSV file.\n",
    "    \"\"\"\n",
    "    columns_to_export = ['cohort_participant_id', 'pathology_diagnosis', 'pathology_free_text_diagnosis', \"primary_site\"]\n",
    "    if not set(columns_to_export).issubset(df.columns):\n",
    "        raise ValueError(f\"The DataFrame must contain the following columns: {columns_to_export}\")\n",
    "    df_to_export = df[columns_to_export]\n",
    "    df_to_export.to_csv(filepath, index=False)\n",
    "    print(f\"Data exported successfully to {filepath}\")"
   ]
  },
  {
   "cell_type": "markdown",
   "metadata": {},
   "source": [
    "### Execution"
   ]
  },
  {
   "cell_type": "code",
   "execution_count": 13,
   "metadata": {},
   "outputs": [
    {
     "name": "stdout",
     "output_type": "stream",
     "text": [
      "Number of unique patient IDs in the original clinical CSV: 513\n",
      "Number of unique patient IDs in the directory: 45\n",
      "Number of unique patient IDs in the filtered clinical CSV: 45\n",
      "Number of reduced patient IDs: 468\n",
      "Number of unique patient IDs in the original histologies CSV: 6192\n",
      "Number of unique patient IDs in the final histologies CSV: 9\n",
      "Number of reduced patient IDs: 6183\n",
      "Data exported successfully to /home/jc053/GIT/mri_longitudinal_analysis/data/output/clinical_data/cbtn_histologies_data.csv\n"
     ]
    }
   ],
   "source": [
    "clinical_data = Path('/home/jc053/GIT/mri_longitudinal_analysis/data/input/clinical/cbtn_filtered_pruned_treatment_513.csv')    \n",
    "histologies = Path('/home/jc053/GIT/mri_longitudinal_analysis/data/input/clinical/cbtn_histologies.csv')\n",
    "seg_dir = Path(\"/mnt/93E8-0534/JuanCarlos/mri-classification-sequences/cbtn_longitudinal_dataset/pre_event/accepted/pre_treatment\")\n",
    "output_dir = Path(\"/home/jc053/GIT/mri_longitudinal_analysis/data/output/clinical_data\")\n",
    "    \n",
    "_, histologies_df, _  = get_patient_data(clinical_data, histologies, seg_dir)\n",
    "export_ids_and_diagnosis_to_csv(histologies_df, os.path.join(output_dir, \"cbtn_histologies_data.csv\"))\n",
    "    \n"
   ]
  },
  {
   "cell_type": "code",
   "execution_count": null,
   "metadata": {},
   "outputs": [],
   "source": []
  }
 ],
 "metadata": {
  "kernelspec": {
   "display_name": "mri-longitudinal-analysis",
   "language": "python",
   "name": "python3"
  },
  "language_info": {
   "codemirror_mode": {
    "name": "ipython",
    "version": 3
   },
   "file_extension": ".py",
   "mimetype": "text/x-python",
   "name": "python",
   "nbconvert_exporter": "python",
   "pygments_lexer": "ipython3",
   "version": "3.11.3"
  }
 },
 "nbformat": 4,
 "nbformat_minor": 2
}
